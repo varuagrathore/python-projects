{
 "cells": [
  {
   "cell_type": "code",
   "execution_count": 1,
   "id": "ff23181e",
   "metadata": {},
   "outputs": [],
   "source": [
    "import random "
   ]
  },
  {
   "cell_type": "code",
   "execution_count": 10,
   "id": "5b735577",
   "metadata": {},
   "outputs": [
    {
     "name": "stdout",
     "output_type": "stream",
     "text": [
      "type a number:10\n",
      "Make a guess:8\n",
      "you were below the number!\n",
      "Make a guess:9\n",
      "you got it!\n",
      "you got it in  2  guesses\n"
     ]
    }
   ],
   "source": [
    "top_of_range=input(\"type a number:\")\n",
    "if top_of_range.isdigit():\n",
    "    top_of_range=int(top_of_range)\n",
    "    \n",
    "    if top_of_range<=0:\n",
    "        print('please type a number larger than 0 next time.')\n",
    "        quit()\n",
    "else:\n",
    "    print(\"please type a number next time.\")\n",
    "    quit()\n",
    "\n",
    "random_number=random.randint(0,top_of_range)\n",
    "guesses=0\n",
    "\n",
    "\n",
    "while True:\n",
    "    guesses+=1\n",
    "    user_guess=input('Make a guess:')\n",
    "    if user_guess.isdigit():\n",
    "        user_guess=int(user_guess)\n",
    "    else:\n",
    "        print('please type a number next time.')\n",
    "        continue\n",
    "    if user_guess==random_number:\n",
    "        print(\"you got it!\")\n",
    "        break\n",
    "    elif user_guess>random_number:\n",
    "        print(\"you were above the number!\")\n",
    "    else:\n",
    "        print('you were below the number!')\n",
    "            \n",
    "print(\"you got it in \", guesses,' guesses')"
   ]
  },
  {
   "cell_type": "code",
   "execution_count": null,
   "id": "56734cc6",
   "metadata": {},
   "outputs": [],
   "source": []
  }
 ],
 "metadata": {
  "kernelspec": {
   "display_name": "Python 3 (ipykernel)",
   "language": "python",
   "name": "python3"
  },
  "language_info": {
   "codemirror_mode": {
    "name": "ipython",
    "version": 3
   },
   "file_extension": ".py",
   "mimetype": "text/x-python",
   "name": "python",
   "nbconvert_exporter": "python",
   "pygments_lexer": "ipython3",
   "version": "3.11.4"
  }
 },
 "nbformat": 4,
 "nbformat_minor": 5
}
